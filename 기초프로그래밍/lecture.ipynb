{
 "cells": [
  {
   "cell_type": "code",
   "execution_count": 15,
   "metadata": {},
   "outputs": [],
   "source": [
    "# 실습 : 바이너리파일 : 객체 쓰기\n",
    "## 슬라이드 25페이지\n",
    "import pickle\n",
    "gameOption = {\n",
    "    \"Sound\" : 8,\n",
    "    \"VideoQuality\" : \"HIGH\",\n",
    "    \"Money\" : 100000,\n",
    "    \"WeaponList\" : [\"gun\", \"missile\", \"knife\"]\n",
    "}\n",
    "\n",
    "# 이진 파일 오픈\n",
    "file = open(\"d://save.p\", \"wb\")\n",
    "# 딕셔너리를 피클 파일에 저장\n",
    "pickle.dump(gameOption, file)\n",
    "# 파일을 닫는다.\n",
    "file.close()"
   ]
  },
  {
   "cell_type": "code",
   "execution_count": 13,
   "metadata": {},
   "outputs": [
    {
     "name": "stdout",
     "output_type": "stream",
     "text": [
      "{'Sound': 8, 'VideoQuality': 'HIGH', 'Money': 100000, 'WeaponList': ['gun', 'missile', 'knife']}\n"
     ]
    }
   ],
   "source": [
    "# 실습 : 바이너리파일 : 객체 읽기\n",
    "## 슬라이드 26페이지\n",
    "import pickle\n",
    "# 이진 파일 오픈\n",
    "file = open(\"d://save.p\", \"rb\")\n",
    "# 피클 파일에 딕셔너리를 로딩\n",
    "obj = pickle.load(file)\n",
    "print(obj)"
   ]
  },
  {
   "cell_type": "code",
   "execution_count": 8,
   "metadata": {},
   "outputs": [
    {
     "data": {
      "text/plain": [
       "['lecture.ipynb']"
      ]
     },
     "execution_count": 8,
     "metadata": {},
     "output_type": "execute_result"
    }
   ],
   "source": [
    "import os\n",
    "# os.system(\"notepad\")\n",
    "os.listdir()"
   ]
  },
  {
   "cell_type": "code",
   "execution_count": 2,
   "metadata": {},
   "outputs": [
    {
     "name": "stdout",
     "output_type": "stream",
     "text": [
      "nameeesubage25height194.5\n",
      "name eesub age 25 height 194.5\n",
      "name eesub age 25 height 194.5\n"
     ]
    }
   ],
   "source": [
    "name = \"eesub\"\n",
    "age = 25\n",
    "height = 194.5\n",
    "#print(\"name\"+name+\"age\"+age+\"height\"+height) # error\n",
    "print(\"name\"+name+\"age\"+str(age)+\"height\"+str(height))  \n",
    "print(\"name \"+name+\" age \"+str(age)+\" height \"+str(height)) \n",
    "print(\"name\",name,\"age\",age,\"height\",height) # 자유로운 표현이 어렵다"
   ]
  },
  {
   "cell_type": "code",
   "execution_count": 3,
   "metadata": {},
   "outputs": [
    {
     "name": "stdout",
     "output_type": "stream",
     "text": [
      "name eesub age 25 height 194.500000\n",
      "name:eesub \tage: 25 \theight:194.500000\n",
      "my height is    194.500\n",
      "194.500000                     194.500000\n",
      "->194.500000<- ->                    194.500000<-\n",
      "->194.500000<- ->194.500000                    <-\n",
      "->    194.50<- ->194.50000                     <-\n",
      "my list is [0, 1, 2, 3, 4, 5, 6, 7, 8, 9]! ok?\n"
     ]
    }
   ],
   "source": [
    "name = \"eesub\"\n",
    "age = 25\n",
    "height = 194.5\n",
    "print(\"name %s age %d height %f\" % (name,age,height))\n",
    "print(\"name:%s \\tage: %d \\theight:%f\" % (name,age,height))\n",
    "print(\"my height is %10.3f\"% height)\n",
    "print(\"%10f %30f\"%(height,height))\n",
    "print(\"->%10f<- ->%30f<-\" % (height,height))\n",
    "print(\"->%10f<- ->%-30f<-\" % (height,height))\n",
    "print(\"->%10.2f<- ->%-30.5f<-\" % (height,height))\n",
    "list1 = list(range(10))\n",
    "print(\"my list is %s! ok?\" % list1)"
   ]
  },
  {
   "cell_type": "code",
   "execution_count": 4,
   "metadata": {},
   "outputs": [
    {
     "name": "stdout",
     "output_type": "stream",
     "text": [
      "1. hello, eesub 25 194.5\n",
      "2. eesub\n",
      "3. hello, 194.5 25 eesub\n",
      "4. > 10< > 100< > 1000<\n"
     ]
    },
    {
     "ename": "KeyError",
     "evalue": "'age+1'",
     "output_type": "error",
     "traceback": [
      "\u001b[1;31m---------------------------------------------------------------------------\u001b[0m",
      "\u001b[1;31mKeyError\u001b[0m                                  Traceback (most recent call last)",
      "\u001b[1;32m<ipython-input-4-3c89b4de0ef9>\u001b[0m in \u001b[0;36m<module>\u001b[1;34m\u001b[0m\n\u001b[0;32m      5\u001b[0m \u001b[1;31m# object\u001b[0m\u001b[1;33m\u001b[0m\u001b[1;33m\u001b[0m\u001b[1;33m\u001b[0m\u001b[0m\n\u001b[0;32m      6\u001b[0m \u001b[0mperson\u001b[0m \u001b[1;33m=\u001b[0m \u001b[1;33m{\u001b[0m\u001b[1;34m'name'\u001b[0m\u001b[1;33m:\u001b[0m \u001b[1;34m'Eric'\u001b[0m\u001b[1;33m,\u001b[0m \u001b[1;34m'age'\u001b[0m\u001b[1;33m:\u001b[0m \u001b[1;36m74\u001b[0m\u001b[1;33m}\u001b[0m\u001b[1;33m\u001b[0m\u001b[1;33m\u001b[0m\u001b[0m\n\u001b[1;32m----> 7\u001b[1;33m \u001b[0mprint\u001b[0m\u001b[1;33m(\u001b[0m\u001b[1;34m\"5. Hello, {name}. You are {age+1}.\"\u001b[0m\u001b[1;33m.\u001b[0m\u001b[0mformat\u001b[0m\u001b[1;33m(\u001b[0m\u001b[0mname\u001b[0m\u001b[1;33m=\u001b[0m\u001b[0mperson\u001b[0m\u001b[1;33m[\u001b[0m\u001b[1;34m'name'\u001b[0m\u001b[1;33m]\u001b[0m\u001b[1;33m,\u001b[0m \u001b[0mage\u001b[0m\u001b[1;33m=\u001b[0m\u001b[0mperson\u001b[0m\u001b[1;33m[\u001b[0m\u001b[1;34m'age'\u001b[0m\u001b[1;33m]\u001b[0m\u001b[1;33m)\u001b[0m\u001b[1;33m)\u001b[0m\u001b[1;33m\u001b[0m\u001b[1;33m\u001b[0m\u001b[0m\n\u001b[0m\u001b[0;32m      8\u001b[0m \u001b[0mprint\u001b[0m\u001b[1;33m(\u001b[0m\u001b[1;34m\"6. Hello, {name}. You are {age}.\"\u001b[0m\u001b[1;33m.\u001b[0m\u001b[0mformat\u001b[0m\u001b[1;33m(\u001b[0m\u001b[1;33m**\u001b[0m\u001b[0mperson\u001b[0m\u001b[1;33m)\u001b[0m\u001b[1;33m)\u001b[0m\u001b[1;33m\u001b[0m\u001b[1;33m\u001b[0m\u001b[0m\n\u001b[0;32m      9\u001b[0m \u001b[1;33m\u001b[0m\u001b[0m\n",
      "\u001b[1;31mKeyError\u001b[0m: 'age+1'"
     ]
    }
   ],
   "source": [
    "print('1. hello, {} {} {}'.format(name, age, height))\n",
    "print('2. {:s}'.format(name))\n",
    "print('3. hello, {2} {1} {0}'.format(name, age, height))\n",
    "print(\"4. >{:3d}< >{:4d}< >{:5d}<\".format(10, 100, 1000))\n",
    "# object\n",
    "person = {'name': 'Eric', 'age': 74}\n",
    "print(\"5. Hello, {name}. You are {age+1}.\".format(name=person['name'], age=person['age']))\n",
    "print(\"6. Hello, {name}. You are {age}.\".format(**person))\n",
    "\n",
    "name = 'eesub'\n",
    "print('7. hello {name}')\n",
    "print('8. {{'.format())"
   ]
  },
  {
   "cell_type": "code",
   "execution_count": 5,
   "metadata": {},
   "outputs": [
    {
     "name": "stdout",
     "output_type": "stream",
     "text": [
      "Hello, 홍길동. You are 74.\n",
      "Hello, 홍길동. You are 75.\n",
      "Hello, 홍길동. You are 2.\n",
      "{this is not a special charactor}\n"
     ]
    }
   ],
   "source": [
    "name = \"홍길동\"\n",
    "age = 74\n",
    "\n",
    "print(f\"Hello, {name}. You are {age}.\")\n",
    "print(f\"Hello, {name}. You are {age+1}.\")\n",
    "print(F\"Hello, {name}. You are {len(str(age))}.\")\n",
    "\n",
    "print(f\"{{this is not a special charactor}}\")"
   ]
  },
  {
   "cell_type": "code",
   "execution_count": 6,
   "metadata": {},
   "outputs": [
    {
     "name": "stdout",
     "output_type": "stream",
     "text": [
      "74\n",
      "********************\n",
      "hong is funny.\n"
     ]
    }
   ],
   "source": [
    "# Arbitrary Expressions(임의 표현식)\n",
    "# f-Strings는 실행될 때 계산되기 때문에, 파이썬에서 유효한 모든 표현식을 사용\n",
    "# 정말 강력한 기능임, 프로그램 작성시 너무 편리.\n",
    "a = 2\n",
    "print(f\"{a * 37}\")\n",
    "print(f\"{'*'*20}\")\n",
    "#함수를 호출할 수도 있습니다.\n",
    "def to_lowercase(input):\n",
    "  return input.lower()\n",
    "name = \"HONG\"\n",
    "print(f\"{to_lowercase(name)} is funny.\")"
   ]
  },
  {
   "cell_type": "code",
   "execution_count": 7,
   "metadata": {},
   "outputs": [
    {
     "name": "stdout",
     "output_type": "stream",
     "text": [
      "[0, 1, 4, 9, 16, 25, 36, 49, 64, 81]\n",
      "[1, 2, 4, 8, 16, 32, 64, 128, 256, 512, 1024, 2048, 4096]\n",
      "[0, 4, 16, 36, 64]\n"
     ]
    }
   ],
   "source": [
    "# 파이썬의 표현\n",
    "S = [x**2 for x in range(10)]\n",
    "V = [2**i for i in range(13)]\n",
    "M = [x for x in S if x % 2 == 0]\n",
    "print(S)\n",
    "print(V)\n",
    "print(M)"
   ]
  },
  {
   "cell_type": "code",
   "execution_count": 8,
   "metadata": {},
   "outputs": [
    {
     "name": "stdout",
     "output_type": "stream",
     "text": [
      "[0, 0, 0, 0, 0, 0, 0, 0, 0, 0, 0, 1, 2, 3, 4, 5, 6, 7, 8, 9, 0, 2, 4, 6, 8, 10, 12, 14, 16, 18, 0, 3, 6, 9, 12, 15, 18, 21, 24, 27, 0, 4, 8, 12, 16, 20, 24, 28, 32, 36, 0, 5, 10, 15, 20, 25, 30, 35, 40, 45, 0, 6, 12, 18, 24, 30, 36, 42, 48, 54, 0, 7, 14, 21, 28, 35, 42, 49, 56, 63, 0, 8, 16, 24, 32, 40, 48, 56, 64, 72, 0, 9, 18, 27, 36, 45, 54, 63, 72, 81]\n",
      "[0, 0, 0, 0, 0, 0, 0, 0, 0, 0, 0, 1, 2, 3, 4, 5, 6, 7, 8, 9, 0, 2, 4, 6, 8, 10, 12, 14, 16, 18, 0, 3, 6, 9, 12, 15, 18, 21, 24, 27, 0, 4, 8, 12, 16, 20, 24, 28, 32, 36, 0, 5, 10, 15, 20, 25, 30, 35, 40, 45, 0, 6, 12, 18, 24, 30, 36, 42, 48, 54, 0, 7, 14, 21, 28, 35, 42, 49, 56, 63, 0, 8, 16, 24, 32, 40, 48, 56, 64, 72, 0, 9, 18, 27, 36, 45, 54, 63, 72, 81]\n"
     ]
    }
   ],
   "source": [
    "result = []\n",
    "for i in range(10):\n",
    "  for j in range(10):\n",
    "    result.append(i*j)\n",
    "print(result)\n",
    "print([i*j for i in range(10) for j in range(10)])"
   ]
  },
  {
   "cell_type": "code",
   "execution_count": 9,
   "metadata": {},
   "outputs": [
    {
     "name": "stdout",
     "output_type": "stream",
     "text": [
      "['The', 'quick', 'brwon', 'fox', 'jumps', 'over', 'the', 'lazy', 'dog']\n",
      "\n",
      "[['THE', 'the', 3], ['QUICK', 'quick', 5], ['BRWON', 'brwon', 5], ['FOX', 'fox', 3], ['JUMPS', 'jumps', 5], ['OVER', 'over', 4], ['THE', 'the', 3], ['LAZY', 'lazy', 4], ['DOG', 'dog', 3]]\n"
     ]
    }
   ],
   "source": [
    "# 연습\n",
    "word = \"The quick brwon fox jumps over the lazy dog\".split()\n",
    "print(word)\n",
    "print()\n",
    "print([[w.upper(), w.lower(), len(w)] for w in word])"
   ]
  },
  {
   "cell_type": "code",
   "execution_count": 10,
   "metadata": {},
   "outputs": [
    {
     "name": "stdout",
     "output_type": "stream",
     "text": [
      "[['AD', 'BD', 'CD'], ['AE', 'BE', 'CE'], ['AF', 'BF', 'CF']]\n"
     ]
    }
   ],
   "source": [
    "case_1 = ['A','B','C']\n",
    "case_2 = ['D','E','F']\n",
    "print([[i+j for i in case_1] for j in case_2])"
   ]
  },
  {
   "cell_type": "code",
   "execution_count": 11,
   "metadata": {},
   "outputs": [
    {
     "name": "stdout",
     "output_type": "stream",
     "text": [
      "60\n",
      "30\n",
      "10\n",
      "20\n",
      "60\n",
      "30\n",
      "1 2 3 4\n"
     ]
    }
   ],
   "source": [
    "#### Default Arguments\n",
    "def add(a=0, b=0, c=0):\n",
    "  print(a+b+c)\n",
    "\n",
    "add(10,20,30)\n",
    "add(10,20)\n",
    "add(10)\n",
    "\n",
    "add(b=20)\n",
    "\n",
    "param = (10,20,30)\n",
    "add(*param) # tuple extraction\n",
    "param = [10,20]\n",
    "add(*param)\n",
    "\n",
    "p1= [1,2]\n",
    "p2= [3,4]\n",
    "print(*p1,*p2)\n"
   ]
  },
  {
   "cell_type": "code",
   "execution_count": 12,
   "metadata": {},
   "outputs": [
    {
     "name": "stdout",
     "output_type": "stream",
     "text": [
      "(2, 1)\n",
      "2\n",
      "2\n"
     ]
    }
   ],
   "source": [
    "def multi_return(a,b):\n",
    "  return b,a\n",
    "print(multi_return(1,2))\n",
    "x, y = multi_return(1,2)\n",
    "print(x)\n",
    "x, _ = multi_return(1,2)\n",
    "print(x)"
   ]
  },
  {
   "cell_type": "code",
   "execution_count": 13,
   "metadata": {},
   "outputs": [
    {
     "name": "stdout",
     "output_type": "stream",
     "text": [
      "First: a\n",
      "Second: b\n",
      "Third: c\n",
      "the rest: ('d', 1, 2, 3, 4)\n",
      "<class 'tuple'>\n"
     ]
    }
   ],
   "source": [
    "# Arbitrary number of Arguments, *args\n",
    "def foo(first, second, third, *therest):\n",
    "  print(\"First: %s\" % first)\n",
    "  print(\"Second: %s\" % second)\n",
    "  print(\"Third: %s\" % third)\n",
    "  print(f'the rest: {therest}')\n",
    "  print(type(therest))\n",
    "foo('a','b','c','d',1,2,3,4)"
   ]
  },
  {
   "cell_type": "code",
   "execution_count": 14,
   "metadata": {},
   "outputs": [
    {
     "name": "stdout",
     "output_type": "stream",
     "text": [
      "{'action': 'sum', 'number': 'first'}\n",
      "{'action': 'sum', 'number': 'second'}\n"
     ]
    }
   ],
   "source": [
    "# object argument\n",
    "\n",
    "def bar(**options):\n",
    "  print(options)\n",
    "\n",
    "bar(action = \"sum\", number = \"first\")\n",
    "\n",
    "param = {'action': 'sum', 'number': 'second'}\n",
    "bar(**param)\n"
   ]
  },
  {
   "cell_type": "code",
   "execution_count": 15,
   "metadata": {},
   "outputs": [
    {
     "name": "stdout",
     "output_type": "stream",
     "text": [
      "{'action': 'sum', 'number': 'first'}\n",
      "The sum is: 6\n",
      "Result:1\n"
     ]
    }
   ],
   "source": [
    "def myfn(first, second, third, **options):\n",
    "  print(options)\n",
    "  if options.get(\"action\") == \"sum\":\n",
    "    print(\"The sum is: %d\" %(first + second + third))\n",
    "  if options[\"number\"] == \"first\":\n",
    "    return first\n",
    "result = myfn(1, 2, 3, action = \"sum\", number = \"first\")\n",
    "print(f'Result:{result}')"
   ]
  },
  {
   "cell_type": "code",
   "execution_count": 17,
   "metadata": {},
   "outputs": [
    {
     "name": "stdout",
     "output_type": "stream",
     "text": [
      "outer fn\n",
      "inner function\n"
     ]
    },
    {
     "ename": "NameError",
     "evalue": "name 'innerFn' is not defined",
     "output_type": "error",
     "traceback": [
      "\u001b[1;31m---------------------------------------------------------------------------\u001b[0m",
      "\u001b[1;31mNameError\u001b[0m                                 Traceback (most recent call last)",
      "\u001b[1;32m<ipython-input-17-186e92677485>\u001b[0m in \u001b[0;36m<module>\u001b[1;34m\u001b[0m\n\u001b[0;32m      6\u001b[0m   \u001b[0minnerFn\u001b[0m\u001b[1;33m(\u001b[0m\u001b[1;33m)\u001b[0m\u001b[1;33m\u001b[0m\u001b[1;33m\u001b[0m\u001b[0m\n\u001b[0;32m      7\u001b[0m \u001b[0mfn\u001b[0m\u001b[1;33m(\u001b[0m\u001b[1;33m)\u001b[0m\u001b[1;33m\u001b[0m\u001b[1;33m\u001b[0m\u001b[0m\n\u001b[1;32m----> 8\u001b[1;33m \u001b[0minnerFn\u001b[0m\u001b[1;33m(\u001b[0m\u001b[1;33m)\u001b[0m\u001b[1;33m\u001b[0m\u001b[1;33m\u001b[0m\u001b[0m\n\u001b[0m",
      "\u001b[1;31mNameError\u001b[0m: name 'innerFn' is not defined"
     ]
    }
   ],
   "source": [
    "# Inner Function\n",
    "def fn():\n",
    "  print(\"outer fn\")\n",
    "  def innerFn():\n",
    "    print(\"inner function\")\n",
    "  innerFn()\n",
    "fn()\n",
    "innerFn()"
   ]
  },
  {
   "cell_type": "code",
   "execution_count": 18,
   "metadata": {},
   "outputs": [
    {
     "name": "stdout",
     "output_type": "stream",
     "text": [
      " 1, 2, 3\n",
      " 1, 2\n"
     ]
    }
   ],
   "source": [
    "glb = 1\n",
    "def fn():\n",
    "  local1 = 2\n",
    "  def innerFn():\n",
    "    local2 = 3\n",
    "    print(f\" {glb}, {local1}, {local2}\")\n",
    "  innerFn()\n",
    "  print(f\" {glb}, {local1}\")\n",
    "fn()"
   ]
  },
  {
   "cell_type": "code",
   "execution_count": 19,
   "metadata": {},
   "outputs": [
    {
     "name": "stdout",
     "output_type": "stream",
     "text": [
      "(3, 5)\n",
      "Sum: 8\n",
      "(4, 5, 6, 7)\n",
      "Sum: 22\n",
      "(1, 2, 3, 5, 6)\n",
      "Sum: 17\n"
     ]
    }
   ],
   "source": [
    "# Using *args to pass the variable length arguments to the function\n",
    "def adder(*num):\n",
    "  print(num)\n",
    "  sum = 0    \n",
    "  for n in num:\n",
    "      sum = sum + n\n",
    "  print(\"Sum:\",sum)\n",
    "\n",
    "adder(3,5)\n",
    "adder(4,5,6,7)\n",
    "adder(1,2,3,5,6)"
   ]
  },
  {
   "cell_type": "code",
   "execution_count": 20,
   "metadata": {},
   "outputs": [
    {
     "name": "stdout",
     "output_type": "stream",
     "text": [
      "abcdef  the\n",
      "is\n",
      "a\n",
      "multiline\n",
      "string [1, 2, 3] 1 2 1 1\n"
     ]
    }
   ],
   "source": [
    "a = \"abc\\\n",
    "def\"\n",
    "\n",
    "b = ''' the\n",
    "is\n",
    "a\n",
    "multiline\n",
    "string'''\n",
    "\n",
    "c = [1,\n",
    "    2, # 수식인 경우 \\이 필요 없음\n",
    "    3]\n",
    "x,y =1, 2 # 2개의 문장을 하나의 라인에\n",
    "\n",
    "i = j = 1\n",
    "1 + 2 + 3\n",
    "print(a,b,c,x,y,i,j)"
   ]
  },
  {
   "cell_type": "code",
   "execution_count": 21,
   "metadata": {},
   "outputs": [
    {
     "name": "stdout",
     "output_type": "stream",
     "text": [
      "--------------------\n",
      "Help on function printML in module __main__:\n",
      "\n",
      "printML(str)\n",
      "    this is a comment for\n",
      "    this function\n",
      "\n",
      "--------------------\n",
      "\n",
      "  this is a comment for\n",
      "  this function\n",
      "  \n"
     ]
    }
   ],
   "source": [
    "def printML(str):\n",
    "  '''\n",
    "  this is a comment for\n",
    "  this function\n",
    "  '''\n",
    "  print(f'*{str}*')\n",
    "\n",
    "print('-'*20)\n",
    "help(printML)\n",
    "print('-'*20)\n",
    "print(printML.__doc__)"
   ]
  },
  {
   "cell_type": "code",
   "execution_count": 22,
   "metadata": {},
   "outputs": [
    {
     "name": "stdout",
     "output_type": "stream",
     "text": [
      "40\n"
     ]
    },
    {
     "ename": "ValueError",
     "evalue": "35 is not in list",
     "output_type": "error",
     "traceback": [
      "\u001b[1;31m---------------------------------------------------------------------------\u001b[0m",
      "\u001b[1;31mValueError\u001b[0m                                Traceback (most recent call last)",
      "\u001b[1;32m<ipython-input-22-3113b27cb3c0>\u001b[0m in \u001b[0;36m<module>\u001b[1;34m\u001b[0m\n\u001b[0;32m      5\u001b[0m \u001b[0mprint\u001b[0m\u001b[1;33m(\u001b[0m\u001b[0ml1\u001b[0m\u001b[1;33m[\u001b[0m\u001b[0mi\u001b[0m\u001b[1;33m]\u001b[0m\u001b[1;33m)\u001b[0m\u001b[1;33m\u001b[0m\u001b[1;33m\u001b[0m\u001b[0m\n\u001b[0;32m      6\u001b[0m \u001b[1;33m\u001b[0m\u001b[0m\n\u001b[1;32m----> 7\u001b[1;33m \u001b[0mi\u001b[0m \u001b[1;33m=\u001b[0m \u001b[0ml1\u001b[0m\u001b[1;33m.\u001b[0m\u001b[0mindex\u001b[0m\u001b[1;33m(\u001b[0m\u001b[1;36m35\u001b[0m\u001b[1;33m)\u001b[0m\u001b[1;33m\u001b[0m\u001b[1;33m\u001b[0m\u001b[0m\n\u001b[0m\u001b[0;32m      8\u001b[0m \u001b[0mprint\u001b[0m\u001b[1;33m(\u001b[0m\u001b[0mi\u001b[0m\u001b[1;33m)\u001b[0m\u001b[1;33m\u001b[0m\u001b[1;33m\u001b[0m\u001b[0m\n\u001b[0;32m      9\u001b[0m \u001b[1;33m\u001b[0m\u001b[0m\n",
      "\u001b[1;31mValueError\u001b[0m: 35 is not in list"
     ]
    }
   ],
   "source": [
    "# 실행 오류는 생각보다 많이 발생\n",
    "l1 = [10,30,40,70]\n",
    "\n",
    "i = 2\n",
    "print(l1[i])\n",
    "\n",
    "i = l1.index(35)\n",
    "print(i)\n",
    " "
   ]
  },
  {
   "cell_type": "code",
   "execution_count": 23,
   "metadata": {},
   "outputs": [
    {
     "name": "stdout",
     "output_type": "stream",
     "text": [
      "1\n"
     ]
    }
   ],
   "source": [
    "# 매번 사전에 점검 필요\n",
    "l1 = [10,30,40,70]\n",
    "i = l1.index(30)\n",
    "print(i)\n",
    "if 35 in l1:\n",
    "  i = l1.index(35)\n",
    "  print(i)"
   ]
  },
  {
   "cell_type": "code",
   "execution_count": 24,
   "metadata": {},
   "outputs": [
    {
     "name": "stdout",
     "output_type": "stream",
     "text": [
      "Value error 35\n"
     ]
    }
   ],
   "source": [
    "# 라인마다 try: except를 사용하지 말 것\n",
    "l1 = [10,30,40,70]\n",
    "try:\n",
    "  x = l1[1]\n",
    "  y = 35\n",
    "  i = l1.index(y)\n",
    "except:\n",
    "  print(\"Value error\", y)\n",
    " "
   ]
  },
  {
   "cell_type": "code",
   "execution_count": 25,
   "metadata": {},
   "outputs": [
    {
     "name": "stdout",
     "output_type": "stream",
     "text": [
      "***\n",
      ">>>이 문장은 exception이 발생하지 않으면 실행됩니다\n",
      ">>>이 문장은 exception 발생 여부와 상관없이 무조건 실행됩니다!\n",
      "***\n",
      "이 문장은 indexError가 발생하면 실행 됩니다\n",
      ">>>이 문장은 exception 발생 여부와 상관없이 무조건 실행됩니다!\n",
      "***\n",
      "IndexError가 아닌 다른 종류의 Exception이 발생했습니다 ==> list indices must be integers or slices, not str\n",
      ">>>이 문장은 exception 발생 여부와 상관없이 무조건 실행됩니다!\n"
     ]
    },
    {
     "data": {
      "text/plain": [
       "-1"
      ]
     },
     "execution_count": 25,
     "metadata": {},
     "output_type": "execute_result"
    }
   ],
   "source": [
    "# 여러 개의 except 사용 가능\n",
    "def return_elem_or_minus_one(i):\n",
    "  myList = [1, 2, 3]\n",
    "  elt = 0\n",
    "  try:\n",
    "    elt = myList[i]\n",
    "  except IndexError as e:\n",
    "    print(f\"이 문장은 indexError가 발생하면 실행 됩니다\")\n",
    "    elt = -1\n",
    "  except Exception as e:\n",
    "    print(f\"IndexError가 아닌 다른 종류의 Exception이 발생했습니다 ==> {e}\")\n",
    "    elt = -1\n",
    "  else:\n",
    "    print(\">>>이 문장은 exception이 발생하지 않으면 실행됩니다\")\n",
    "  finally:\n",
    "    print(\">>>이 문장은 exception 발생 여부와 상관없이 무조건 실행됩니다!\")\n",
    "    return elt\n",
    "\n",
    "print(\"***\")\n",
    "return_elem_or_minus_one(2)\n",
    "print(\"***\")\n",
    "return_elem_or_minus_one(3)\n",
    "print(\"***\")\n",
    "return_elem_or_minus_one('a')"
   ]
  }
 ],
 "metadata": {
  "interpreter": {
   "hash": "879667aab71aae80db885b91a9026c6c52109e14beb095e73975393308bdd177"
  },
  "kernelspec": {
   "display_name": "Python 3.6.8 64-bit",
   "language": "python",
   "name": "python3"
  },
  "language_info": {
   "codemirror_mode": {
    "name": "ipython",
    "version": 3
   },
   "file_extension": ".py",
   "mimetype": "text/x-python",
   "name": "python",
   "nbconvert_exporter": "python",
   "pygments_lexer": "ipython3",
   "version": "3.6.8"
  },
  "orig_nbformat": 4
 },
 "nbformat": 4,
 "nbformat_minor": 2
}
