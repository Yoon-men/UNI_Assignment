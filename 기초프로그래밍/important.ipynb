{
 "cells": [
  {
   "cell_type": "code",
   "execution_count": 13,
   "metadata": {},
   "outputs": [
    {
     "name": "stdout",
     "output_type": "stream",
     "text": [
      "Login Success!!\n"
     ]
    }
   ],
   "source": [
    "# ID / PW 검사 (Using list)\n",
    "\n",
    "myIDList = [\"Igo\", \"nanun\", \"gayjoy\", \"mungtangyee\", \"itdaga\"]\n",
    "myPWList = [\"nan\", \"jangpung\", \"go\", \"ro\", \"uringesung\"]\n",
    "\n",
    "myID = input(\"ID를 입력하세요 : \")\n",
    "myPW = input(\"PW를 입력하세요 : \")\n",
    "\n",
    "if myID in myIDList : \n",
    "    ID_index = myIDList.index(myID)\n",
    "\n",
    "    if myPW == myPWList[ID_index] : \n",
    "        print(\"Login Success!!\")\n",
    "    \n",
    "    else : \n",
    "        print(\"invalid PW!!\")\n",
    "\n",
    "\n",
    "else : \n",
    "    print(\"invalid ID!!\")"
   ]
  },
  {
   "cell_type": "code",
   "execution_count": 22,
   "metadata": {},
   "outputs": [
    {
     "name": "stdout",
     "output_type": "stream",
     "text": [
      "12\n",
      "12\n"
     ]
    }
   ],
   "source": [
    "# 짝수 합계 구하기\n",
    "\n",
    "maxNum = int(input(\"어디까지 더할 지 입력해주십시오 : \"))\n",
    "sum_1 = 0\n",
    "sum_2 = 0\n",
    "\n",
    "# sol_1 >> Using range's step\n",
    "for i in range(0, maxNum + 1, 2) : \n",
    "    sum_1 += i\n",
    "print(sum_1)\n",
    "\n",
    "# sol_2 >> Using 'i % 2 == 0'\n",
    "for i in range(maxNum + 1) : \n",
    "    if i % 2 == 0 : \n",
    "        sum_2 += i\n",
    "print(sum_2)"
   ]
  },
  {
   "cell_type": "code",
   "execution_count": 25,
   "metadata": {},
   "outputs": [
    {
     "name": "stdout",
     "output_type": "stream",
     "text": [
      "2 × 1 = 2\n",
      "2 × 2 = 4\n",
      "2 × 3 = 6\n",
      "2 × 4 = 8\n",
      "2 × 5 = 10\n",
      "2 × 6 = 12\n",
      "2 × 7 = 14\n",
      "2 × 8 = 16\n",
      "2 × 9 = 18\n",
      "\n",
      "3 × 1 = 3\n",
      "3 × 2 = 6\n",
      "3 × 3 = 9\n",
      "3 × 4 = 12\n",
      "3 × 5 = 15\n",
      "3 × 6 = 18\n",
      "3 × 7 = 21\n",
      "3 × 8 = 24\n",
      "3 × 9 = 27\n",
      "\n",
      "4 × 1 = 4\n",
      "4 × 2 = 8\n",
      "4 × 3 = 12\n",
      "4 × 4 = 16\n",
      "4 × 5 = 20\n",
      "4 × 6 = 24\n",
      "4 × 7 = 28\n",
      "4 × 8 = 32\n",
      "4 × 9 = 36\n",
      "\n",
      "5 × 1 = 5\n",
      "5 × 2 = 10\n",
      "5 × 3 = 15\n",
      "5 × 4 = 20\n",
      "5 × 5 = 25\n",
      "5 × 6 = 30\n",
      "5 × 7 = 35\n",
      "5 × 8 = 40\n",
      "5 × 9 = 45\n",
      "\n",
      "6 × 1 = 6\n",
      "6 × 2 = 12\n",
      "6 × 3 = 18\n",
      "6 × 4 = 24\n",
      "6 × 5 = 30\n",
      "6 × 6 = 36\n",
      "6 × 7 = 42\n",
      "6 × 8 = 48\n",
      "6 × 9 = 54\n",
      "\n",
      "7 × 1 = 7\n",
      "7 × 2 = 14\n",
      "7 × 3 = 21\n",
      "7 × 4 = 28\n",
      "7 × 5 = 35\n",
      "7 × 6 = 42\n",
      "7 × 7 = 49\n",
      "7 × 8 = 56\n",
      "7 × 9 = 63\n",
      "\n",
      "8 × 1 = 8\n",
      "8 × 2 = 16\n",
      "8 × 3 = 24\n",
      "8 × 4 = 32\n",
      "8 × 5 = 40\n",
      "8 × 6 = 48\n",
      "8 × 7 = 56\n",
      "8 × 8 = 64\n",
      "8 × 9 = 72\n",
      "\n",
      "9 × 1 = 9\n",
      "9 × 2 = 18\n",
      "9 × 3 = 27\n",
      "9 × 4 = 36\n",
      "9 × 5 = 45\n",
      "9 × 6 = 54\n",
      "9 × 7 = 63\n",
      "9 × 8 = 72\n",
      "9 × 9 = 81\n",
      "\n"
     ]
    }
   ],
   "source": [
    "# 구구단 출력\n",
    "\n",
    "for i in range(2, 10) : \n",
    "    for j in range(1, 10) : \n",
    "        print(f\"{i} × {j} = {i * j}\")\n",
    "    print(\"\")"
   ]
  },
  {
   "cell_type": "code",
   "execution_count": 2,
   "metadata": {},
   "outputs": [
    {
     "name": "stdout",
     "output_type": "stream",
     "text": [
      "Login Success!!\n"
     ]
    }
   ],
   "source": [
    "# ID / PW 검사 (Using while and break)\n",
    "\n",
    "myIDList = [\"Igo\", \"nanun\", \"gayjoy\", \"mungtangyee\", \"itdaga\"]\n",
    "myPWList = [\"nan\", \"jangpung\", \"go\", \"ro\", \"uringesung\"]\n",
    "\n",
    "while True : \n",
    "    myID = input(\"ID를 입력하세요 : \")\n",
    "    myPW = input(\"PW를 입력하세요 : \")\n",
    "\n",
    "    if myID in myIDList : \n",
    "        ID_index = myIDList.index(myID)\n",
    "\n",
    "        if myPW == myPWList[ID_index] : \n",
    "            print(\"Login Success!!\")\n",
    "            break\n",
    "\n",
    "        else : \n",
    "            print(\"invalid PW!!\")\n",
    "\n",
    "\n",
    "    else : \n",
    "        print(\"invalid ID!!\")"
   ]
  },
  {
   "cell_type": "code",
   "execution_count": null,
   "metadata": {},
   "outputs": [
    {
     "name": "stdout",
     "output_type": "stream",
     "text": [
      "2\n"
     ]
    }
   ],
   "source": [
    "# 재귀 함수(팩토리얼)\n",
    "def factorial(n) : \n",
    "    if n == 0 : \n",
    "        return 1\n",
    "    \n",
    "    elif n >= 1 : \n",
    "        return n*factorial(n-1)\n",
    "\n",
    "\n",
    "print(factorial(2))"
   ]
  },
  {
   "cell_type": "code",
   "execution_count": 1,
   "metadata": {},
   "outputs": [
    {
     "name": "stdout",
     "output_type": "stream",
     "text": [
      "55\n",
      "55\n"
     ]
    }
   ],
   "source": [
    "# 재귀 함수의 또 다른 실습\n",
    "\n",
    "n = int(input(\"1부터 어디까지 더해볼까요? : \"))\n",
    "\n",
    "\n",
    "# Using 'for loop'\n",
    "sum = 0\n",
    "\n",
    "for i in range(1, n + 1) : \n",
    "    sum += i\n",
    "\n",
    "print(sum)\n",
    "\n",
    "\n",
    "# Refering to 'Definition of Factorial'\n",
    "def plus(n):\n",
    "    if n == 0:\n",
    "        return 0\n",
    "\n",
    "    else : \n",
    "        return plus(n-1) + n\n",
    " \n",
    "print(plus(n))"
   ]
  },
  {
   "cell_type": "code",
   "execution_count": 4,
   "metadata": {},
   "outputs": [
    {
     "name": "stdout",
     "output_type": "stream",
     "text": [
      "< n == 3 >\n",
      "[ 1 ] ==> [ 2 ]\n",
      "[ 1 ] ==> [ 3 ]\n",
      "[ 2 ] ==> [ 3 ]\n",
      "--------------------\n",
      "< n == 4 >\n",
      "[ 1 ] ==> [ 2 ]\n",
      "[ 1 ] ==> [ 3 ]\n",
      "[ 2 ] ==> [ 3 ]\n",
      "[ 1 ] ==> [ 2 ]\n",
      "[ 3 ] ==> [ 1 ]\n",
      "[ 3 ] ==> [ 2 ]\n",
      "[ 1 ] ==> [ 2 ]\n",
      "[ 1 ] ==> [ 3 ]\n",
      "[ 2 ] ==> [ 3 ]\n",
      "[ 2 ] ==> [ 1 ]\n",
      "[ 3 ] ==> [ 1 ]\n",
      "[ 2 ] ==> [ 3 ]\n",
      "[ 1 ] ==> [ 2 ]\n",
      "[ 1 ] ==> [ 3 ]\n",
      "[ 2 ] ==> [ 3 ]\n"
     ]
    }
   ],
   "source": [
    "# 하노이 탑\n",
    "\n",
    "def hanoi(n, fromTower, toTower, semiTower) : \n",
    "\n",
    "    if n == 1 : \n",
    "        print(f\"[ {fromTower} ] ==> [ {toTower} ]\")\n",
    "        return\n",
    "\n",
    "\n",
    "    else : \n",
    "        hanoi(n - 1, fromTower, semiTower, toTower)\n",
    "        print(f\"[ {fromTower} ] ==> [ {toTower} ]\")\n",
    "        hanoi(n - 1, semiTower, toTower, fromTower)\n",
    "\n",
    "print(\"< n == 3 >\")\n",
    "hanoi(2, 1, 3, 2)\n",
    "\n",
    "print(\"-\" * 20)\n",
    "\n",
    "print(\"< n == 4 >\")\n",
    "hanoi(4, 1, 3, 2)"
   ]
  },
  {
   "cell_type": "code",
   "execution_count": 11,
   "metadata": {},
   "outputs": [
    {
     "name": "stdout",
     "output_type": "stream",
     "text": [
      "[4, 6]\n",
      "[2, 2]\n",
      "[11, 12]\n"
     ]
    }
   ],
   "source": [
    "# Matrix\n",
    "\n",
    "def newMatrix(x, y) : \n",
    "    matrix = [x, y]\n",
    "    return matrix\n",
    "\n",
    "def add(x, y) : \n",
    "    matrix = [x[0] + y[0], x[1] + y[1]]\n",
    "    return matrix\n",
    "\n",
    "def minus(x, y) : \n",
    "    matrix = [x[0] - y[0], x[1] - y[1]]\n",
    "    return matrix\n",
    "\n",
    "def scalaAdd(x, a) : \n",
    "    matrix = [x[0] + a, x[1] + a]\n",
    "    return matrix\n",
    "\n",
    "def scalaMultiply(x, a) : \n",
    "    matrix = [x[0] * a + x[1] * a]\n",
    "    return matrix\n",
    "\n",
    "def scalaMinus(x, a) : \n",
    "    matrix = [x[0] - a, x[1] - a]\n",
    "    return matrix\n",
    "\n",
    "def scalaDivide(x, a) : \n",
    "    matrix = [x[0] / a, x[1] / a]\n",
    "    return matrix\n",
    "\n",
    "def multiply(x, y) : \n",
    "    matrix = [x[0] * y[0], x[1] * y[1]]\n",
    "    return matrix\n",
    "\n",
    "def transpose(x) : \n",
    "    matrix = [[x[0]], [x[1]]]\n",
    "    print(matrix)\n",
    "\n",
    "def equal(x) : \n",
    "    return x\n",
    "\n",
    "\n",
    "m1 = newMatrix(1, 2)\n",
    "m2 = newMatrix(3, 4)\n",
    "\n",
    "print(add(m1, m2))\n",
    "print(minus(m2, m1))\n",
    "print(scalaAdd(m1, 10))"
   ]
  }
 ],
 "metadata": {
  "interpreter": {
   "hash": "1e17ebea37418da064caa3437c3de32ed0bb6a3aedf515c8434cf4526fd3dd58"
  },
  "kernelspec": {
   "display_name": "Python 3.6.8 64-bit",
   "language": "python",
   "name": "python3"
  },
  "language_info": {
   "codemirror_mode": {
    "name": "ipython",
    "version": 3
   },
   "file_extension": ".py",
   "mimetype": "text/x-python",
   "name": "python",
   "nbconvert_exporter": "python",
   "pygments_lexer": "ipython3",
   "version": "3.8.5"
  },
  "orig_nbformat": 4
 },
 "nbformat": 4,
 "nbformat_minor": 2
}
