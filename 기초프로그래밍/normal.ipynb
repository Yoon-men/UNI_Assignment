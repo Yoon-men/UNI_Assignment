{
 "cells": [
  {
   "cell_type": "code",
   "execution_count": 4,
   "metadata": {},
   "outputs": [
    {
     "name": "stdout",
     "output_type": "stream",
     "text": [
      "2**10 = 1024\n"
     ]
    }
   ],
   "source": [
    "# Python is Interpreter\n",
    "\n",
    "while True : \n",
    "    ex = input(\"input your expression(Q or q for quit) : \")\n",
    "    if ex == \"q\" or ex == \"Q\" : \n",
    "        break\n",
    "    print(ex, \"=\", eval(ex))"
   ]
  },
  {
   "cell_type": "code",
   "execution_count": 9,
   "metadata": {},
   "outputs": [
    {
     "name": "stdout",
     "output_type": "stream",
     "text": [
      "2400! 2400! 2400!\n",
      "배송비는 무료로 해드리겠습니다. 2400! 2400!\n"
     ]
    }
   ],
   "source": [
    "# 관계 연산자\n",
    "\n",
    "price = int(input(\"판매가를 입력해주십시오.\"))\n",
    "\n",
    "if price >= 20000 : \n",
    "    print(f\"가격은 {price}원입니다.\")\n",
    "    print(\"배송비는 무료입니다.\")\n",
    "\n",
    "elif price == 2400 : \n",
    "    print(\"2400! 2400! 2400!\")\n",
    "    print(\"배송비는 무료로 해드리겠습니다. 2400! 2400!\")\n",
    "\n",
    "else : \n",
    "    print(f\"배송비를 포함한 가격은 {price + 3000}원입니다.\")"
   ]
  },
  {
   "cell_type": "code",
   "execution_count": 16,
   "metadata": {},
   "outputs": [
    {
     "name": "stdout",
     "output_type": "stream",
     "text": [
      "Login Success!!\n"
     ]
    }
   ],
   "source": [
    "# ID / PW 검사 (중복 if)\n",
    "\n",
    "myID = input(\"ID를 입력하십시오 : \")\n",
    "myPW = input(\"PW를 입력하십시오 : \")\n",
    "\n",
    "if myID == \"korea\" : \n",
    "    if myPW == \"1q2w3e4r!\" : \n",
    "        print(\"Login Success!!\")\n",
    "\n",
    "    else : \n",
    "        print(\"invalid PW!!\")\n",
    "\n",
    "\n",
    "else : \n",
    "    print(\"invalid ID!!\")"
   ]
  },
  {
   "cell_type": "code",
   "execution_count": 17,
   "metadata": {},
   "outputs": [
    {
     "name": "stdout",
     "output_type": "stream",
     "text": [
      "Login Success!!\n"
     ]
    }
   ],
   "source": [
    "# ID / PW 검사 (elif)\n",
    "\n",
    "myID = input(\"ID를 입력하십시오 : \")\n",
    "myPW = input(\"PW를 입력하십시오 : \")\n",
    "\n",
    "if myID != \"korea\" : \n",
    "    print(\"invalid ID!!\")\n",
    "\n",
    "elif myPW != \"1q2w3e4r!\" : \n",
    "    print(\"invalid PW!!\")\n",
    "\n",
    "else : \n",
    "    print(\"Login Success!!\")"
   ]
  },
  {
   "cell_type": "code",
   "execution_count": 21,
   "metadata": {},
   "outputs": [
    {
     "name": "stdout",
     "output_type": "stream",
     "text": [
      "A\n"
     ]
    }
   ],
   "source": [
    "# 등급 나누기\n",
    "\n",
    "score = int(input(\"점수를 입력하세요 : \"))\n",
    "\n",
    "if score >= 90 : \n",
    "    print(\"A\")\n",
    "\n",
    "elif 80 <= score < 90 : \n",
    "    print(\"B\")\n",
    "\n",
    "elif 70 <= score < 80 : \n",
    "    print(\"C\")\n",
    "\n",
    "elif 60 <= score < 70 : \n",
    "    print(\"D\")\n",
    "\n",
    "else :  \n",
    "    print(\"F\")"
   ]
  }
 ],
 "metadata": {
  "interpreter": {
   "hash": "e0ff70f5b19e5a19febcbd78781e69fe4029793a1e976b8709ea222008600ed7"
  },
  "kernelspec": {
   "display_name": "Python 3.8.5 64-bit",
   "language": "python",
   "name": "python3"
  },
  "language_info": {
   "codemirror_mode": {
    "name": "ipython",
    "version": 3
   },
   "file_extension": ".py",
   "mimetype": "text/x-python",
   "name": "python",
   "nbconvert_exporter": "python",
   "pygments_lexer": "ipython3",
   "version": "3.8.5"
  },
  "orig_nbformat": 4
 },
 "nbformat": 4,
 "nbformat_minor": 2
}
