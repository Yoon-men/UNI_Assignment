{
 "cells": [
  {
   "cell_type": "code",
   "execution_count": 4,
   "metadata": {},
   "outputs": [
    {
     "name": "stdout",
     "output_type": "stream",
     "text": [
      "2**10 = 1024\n"
     ]
    }
   ],
   "source": [
    "# Python is Interpreter\n",
    "\n",
    "while True : \n",
    "    ex = input(\"input your expression(Q or q for quit) : \")\n",
    "    if ex == \"q\" or ex == \"Q\" : \n",
    "        break\n",
    "    print(ex, \"=\", eval(ex))"
   ]
  },
  {
   "cell_type": "code",
   "execution_count": 9,
   "metadata": {},
   "outputs": [
    {
     "name": "stdout",
     "output_type": "stream",
     "text": [
      "2400! 2400! 2400!\n",
      "배송비는 무료로 해드리겠습니다. 2400! 2400!\n"
     ]
    }
   ],
   "source": [
    "# 관계 연산자\n",
    "\n",
    "price = int(input(\"판매가를 입력해주십시오.\"))\n",
    "\n",
    "if price >= 20000 : \n",
    "    print(f\"가격은 {price}원입니다.\")\n",
    "    print(\"배송비는 무료입니다.\")\n",
    "\n",
    "elif price == 2400 : \n",
    "    print(\"2400! 2400! 2400!\")\n",
    "    print(\"배송비는 무료로 해드리겠습니다. 2400! 2400!\")\n",
    "\n",
    "else : \n",
    "    print(f\"배송비를 포함한 가격은 {price + 3000}원입니다.\")"
   ]
  },
  {
   "cell_type": "code",
   "execution_count": 16,
   "metadata": {},
   "outputs": [
    {
     "name": "stdout",
     "output_type": "stream",
     "text": [
      "Login Success!!\n"
     ]
    }
   ],
   "source": [
    "# ID / PW 검사 (중복 if)\n",
    "\n",
    "myID = input(\"ID를 입력하십시오 : \")\n",
    "myPW = input(\"PW를 입력하십시오 : \")\n",
    "\n",
    "if myID == \"korea\" : \n",
    "    if myPW == \"1q2w3e4r!\" : \n",
    "        print(\"Login Success!!\")\n",
    "\n",
    "    else : \n",
    "        print(\"invalid PW!!\")\n",
    "\n",
    "\n",
    "else : \n",
    "    print(\"invalid ID!!\")"
   ]
  },
  {
   "cell_type": "code",
   "execution_count": 17,
   "metadata": {},
   "outputs": [
    {
     "name": "stdout",
     "output_type": "stream",
     "text": [
      "Login Success!!\n"
     ]
    }
   ],
   "source": [
    "# ID / PW 검사 (elif)\n",
    "\n",
    "myID = input(\"ID를 입력하십시오 : \")\n",
    "myPW = input(\"PW를 입력하십시오 : \")\n",
    "\n",
    "if myID != \"korea\" : \n",
    "    print(\"invalid ID!!\")\n",
    "\n",
    "elif myPW != \"1q2w3e4r!\" : \n",
    "    print(\"invalid PW!!\")\n",
    "\n",
    "else : \n",
    "    print(\"Login Success!!\")"
   ]
  },
  {
   "cell_type": "code",
   "execution_count": 21,
   "metadata": {},
   "outputs": [
    {
     "name": "stdout",
     "output_type": "stream",
     "text": [
      "A\n"
     ]
    }
   ],
   "source": [
    "# 등급 나누기\n",
    "\n",
    "score = int(input(\"점수를 입력하세요 : \"))\n",
    "\n",
    "if score >= 90 : \n",
    "    print(\"A\")\n",
    "\n",
    "elif 80 <= score < 90 : \n",
    "    print(\"B\")\n",
    "\n",
    "elif 70 <= score < 80 : \n",
    "    print(\"C\")\n",
    "\n",
    "elif 60 <= score < 70 : \n",
    "    print(\"D\")\n",
    "\n",
    "else :  \n",
    "    print(\"F\")"
   ]
  },
  {
   "cell_type": "code",
   "execution_count": 10,
   "metadata": {},
   "outputs": [
    {
     "name": "stdout",
     "output_type": "stream",
     "text": [
      "============\n",
      "1\n",
      "2\n",
      "3\n",
      "4\n",
      "5\n",
      "------\n",
      "1\n",
      "2\n",
      "3\n",
      "4\n",
      "5\n",
      "============\n",
      "============\n",
      "1\n",
      "2\n",
      "3\n",
      "5\n",
      "6\n",
      "------\n",
      "1\n",
      "2\n",
      "3\n",
      "5\n",
      "6\n",
      "============\n",
      "============\n",
      "1\n",
      "2\n",
      "3\n",
      "------\n",
      "1\n",
      "2\n",
      "3\n",
      "============\n"
     ]
    }
   ],
   "source": [
    "# while loop -> for loop\n",
    "\n",
    "# First\n",
    "print(\"=\" * 12)     # Test code / please delete this line.\n",
    "\n",
    "i = 1\n",
    "while i < 6 : \n",
    "    print(i)\n",
    "    i += 1\n",
    "\n",
    "print(\"-\" * 6)     # Test code / please delete this line.\n",
    "\n",
    "for i in range(1, 6) : \n",
    "    print(i)\n",
    "    i += 1\n",
    "\n",
    "print(\"=\" * 12)     # Test code / please delete this line.\n",
    "\n",
    "\n",
    "# Second\n",
    "print(\"=\" * 12)     # Test code / please delete this line.\n",
    "\n",
    "i = 0\n",
    "while i < 6 : \n",
    "    i += 1\n",
    "    if i == 4 : \n",
    "        continue\n",
    "    print(i)\n",
    "\n",
    "print(\"-\" * 6)      # Test code / please delete this line.\n",
    "\n",
    "for i in range(1, 7) : \n",
    "    if i == 4 : \n",
    "        continue\n",
    "    print(i)\n",
    "    i += 1\n",
    "\n",
    "print(\"=\" * 12)     # Test code / please delete this line.\n",
    "\n",
    "\n",
    "# Third\n",
    "print(\"=\" * 12)     # Test code / please delete this line.\n",
    "\n",
    "i = 0\n",
    "while i < 6 : \n",
    "    i += 1\n",
    "    if i == 4 : \n",
    "        break\n",
    "    print(i)\n",
    "\n",
    "print(\"-\" * 6)     # Test code / please delete this line.\n",
    "\n",
    "for i in range(1, 7) : \n",
    "    if i == 4 : \n",
    "        break\n",
    "    print(i)\n",
    "    i += 1\n",
    "\n",
    "print(\"=\" * 12)     # Test code / please delete this line."
   ]
  },
  {
   "cell_type": "code",
   "execution_count": 12,
   "metadata": {},
   "outputs": [
    {
     "name": "stdout",
     "output_type": "stream",
     "text": [
      "(S)ystem\n",
      "(B)IOS 기능\n",
      "(D)evice\n",
      "(C)hip Set\n",
      "(P)ower Management\n",
      "(Q)uit\n",
      "System Terminated\n"
     ]
    }
   ],
   "source": [
    "# 무한 반복 실습\n",
    "\n",
    "menu = [\"(S)ystem\", \"(B)IOS 기능\", \"(D)evice\", \"(C)hip Set\", \"(P)ower Management\", \"(Q)uit\"]\n",
    "\n",
    "while True : \n",
    "    for m in menu : \n",
    "        print(m)\n",
    "    \n",
    "    select = input(\"메뉴를 선택해주세요 : \")\n",
    "    \n",
    "    if select == \"Q\" or select == \"q\" : \n",
    "        print(\"System Terminated\")\n",
    "        break\n",
    "    \n",
    "    else : \n",
    "        print(f\"{select} is selected.\")"
   ]
  },
  {
   "cell_type": "code",
   "execution_count": 14,
   "metadata": {},
   "outputs": [
    {
     "name": "stdout",
     "output_type": "stream",
     "text": [
      "white\n",
      "white\n"
     ]
    }
   ],
   "source": [
    "# 간략한 표현들\n",
    "gameType = \"stadium\"\n",
    "\n",
    "gameType = \"home\"\n",
    "\n",
    "if gameType == \"home\" : \n",
    "    shirt = \"white\"\n",
    "\n",
    "else : \n",
    "    shirt = \"green\"\n",
    "\n",
    "print(shirt)\n",
    "\n",
    "# from 4 lines to 1 line.\n",
    "shirt = \"white\" if gameType == \"home\" else \"green\"\n",
    "\n",
    "print(shirt)"
   ]
  },
  {
   "cell_type": "code",
   "execution_count": 3,
   "metadata": {},
   "outputs": [
    {
     "name": "stdout",
     "output_type": "stream",
     "text": [
      "서울특별시 은평구 연서로 415\n",
      "은평노인종합복지관\n",
      "최케인\n"
     ]
    }
   ],
   "source": [
    "# 프로그램 작성법\n",
    "\"\"\"\n",
    "<함수의 정의와 사용>\n",
    " - main()을 별도로 정의하는 것을 추천함.\n",
    "\"\"\"\n",
    "def print_address() :       # 함수 정의\n",
    "    print(\"서울특별시 은평구 연서로 415\")\n",
    "    print(\"은평노인종합복지관\")\n",
    "    print(\"최케인\")\n",
    "\n",
    "\n",
    "def main() :                # 함수 호출\n",
    "    print_address()\n",
    "\n",
    "\n",
    "main()"
   ]
  },
  {
   "cell_type": "code",
   "execution_count": 4,
   "metadata": {},
   "outputs": [
    {
     "name": "stdout",
     "output_type": "stream",
     "text": [
      "1부터 10까지의 합 : 55\n",
      "20부터 37까지의 합 : 513\n",
      "35부터 49까지의 합 : 630\n"
     ]
    }
   ],
   "source": [
    "# 함수를 사용하지 않으면?\n",
    "sum_1 = 0\n",
    "sum_2 = 0\n",
    "sum_3 = 0\n",
    "\n",
    "\n",
    "for i in range(1, 11) : \n",
    "    sum_1 += i\n",
    "\n",
    "for i in range(20, 38) : \n",
    "    sum_2 += i\n",
    "\n",
    "for i in range(35, 50) : \n",
    "    sum_3 += i\n",
    "\n",
    "\n",
    "print(f\"1부터 10까지의 합 : {sum_1}\")\n",
    "print(f\"20부터 37까지의 합 : {sum_2}\")\n",
    "print(f\"35부터 49까지의 합 : {sum_3}\")"
   ]
  },
  {
   "cell_type": "code",
   "execution_count": 5,
   "metadata": {},
   "outputs": [
    {
     "name": "stdout",
     "output_type": "stream",
     "text": [
      "더한 결과 : 7\n",
      "곱한 결과 : 12\n"
     ]
    }
   ],
   "source": [
    "# 함수에서 여러 개의 값 반환하기\n",
    "def Func(x, y) : \n",
    "    val_1 = x + y\n",
    "    val_2 = x * y\n",
    "    return val_1, val_2\n",
    "\n",
    "a, b = Func(3, 4)\n",
    "print(f\"더한 결과 : {a}\")\n",
    "print(f\"곱한 결과 : {b}\")"
   ]
  },
  {
   "cell_type": "code",
   "execution_count": 6,
   "metadata": {},
   "outputs": [
    {
     "ename": "NameError",
     "evalue": "name 'result' is not defined",
     "output_type": "error",
     "traceback": [
      "\u001b[1;31m---------------------------------------------------------------------------\u001b[0m",
      "\u001b[1;31mNameError\u001b[0m                                 Traceback (most recent call last)",
      "\u001b[1;32m<ipython-input-6-e2ba44b41e44>\u001b[0m in \u001b[0;36m<module>\u001b[1;34m\u001b[0m\n\u001b[0;32m      6\u001b[0m \u001b[0mr\u001b[0m \u001b[1;33m=\u001b[0m \u001b[0mfloat\u001b[0m\u001b[1;33m(\u001b[0m\u001b[0minput\u001b[0m\u001b[1;33m(\u001b[0m\u001b[1;34m\"원의 반지름 : \"\u001b[0m\u001b[1;33m)\u001b[0m\u001b[1;33m)\u001b[0m\u001b[1;33m\u001b[0m\u001b[1;33m\u001b[0m\u001b[0m\n\u001b[0;32m      7\u001b[0m \u001b[0marea\u001b[0m \u001b[1;33m=\u001b[0m \u001b[0mcalculate_area\u001b[0m\u001b[1;33m(\u001b[0m\u001b[0mr\u001b[0m\u001b[1;33m)\u001b[0m\u001b[1;33m\u001b[0m\u001b[1;33m\u001b[0m\u001b[0m\n\u001b[1;32m----> 8\u001b[1;33m \u001b[0mprint\u001b[0m\u001b[1;33m(\u001b[0m\u001b[0mresult\u001b[0m\u001b[1;33m)\u001b[0m\u001b[1;33m\u001b[0m\u001b[1;33m\u001b[0m\u001b[0m\n\u001b[0m",
      "\u001b[1;31mNameError\u001b[0m: name 'result' is not defined"
     ]
    }
   ],
   "source": [
    "# 지역 변수의 범위\n",
    "def calculate_area(radius) : \n",
    "    result = 3.14 * radius**2\n",
    "    return result\n",
    "\n",
    "r = float(input(\"원의 반지름 : \"))\n",
    "area = calculate_area(r)\n",
    "print(result)"
   ]
  },
  {
   "cell_type": "code",
   "execution_count": 7,
   "metadata": {},
   "outputs": [
    {
     "ename": "NameError",
     "evalue": "name 'j' is not defined",
     "output_type": "error",
     "traceback": [
      "\u001b[1;31m---------------------------------------------------------------------------\u001b[0m",
      "\u001b[1;31mNameError\u001b[0m                                 Traceback (most recent call last)",
      "\u001b[1;32m<ipython-input-7-a78eb09156ce>\u001b[0m in \u001b[0;36m<module>\u001b[1;34m\u001b[0m\n\u001b[0;32m      8\u001b[0m     \u001b[0mfn2\u001b[0m\u001b[1;33m(\u001b[0m\u001b[1;33m)\u001b[0m\u001b[1;33m\u001b[0m\u001b[1;33m\u001b[0m\u001b[0m\n\u001b[0;32m      9\u001b[0m \u001b[1;33m\u001b[0m\u001b[0m\n\u001b[1;32m---> 10\u001b[1;33m \u001b[0mfn1\u001b[0m\u001b[1;33m(\u001b[0m\u001b[1;33m)\u001b[0m\u001b[1;33m\u001b[0m\u001b[1;33m\u001b[0m\u001b[0m\n\u001b[0m",
      "\u001b[1;32m<ipython-input-7-a78eb09156ce>\u001b[0m in \u001b[0;36mfn1\u001b[1;34m()\u001b[0m\n\u001b[0;32m      6\u001b[0m \u001b[1;32mdef\u001b[0m \u001b[0mfn1\u001b[0m\u001b[1;33m(\u001b[0m\u001b[1;33m)\u001b[0m \u001b[1;33m:\u001b[0m\u001b[1;33m\u001b[0m\u001b[1;33m\u001b[0m\u001b[0m\n\u001b[0;32m      7\u001b[0m     \u001b[0mj\u001b[0m \u001b[1;33m=\u001b[0m \u001b[1;36m1\u001b[0m\u001b[1;33m\u001b[0m\u001b[1;33m\u001b[0m\u001b[0m\n\u001b[1;32m----> 8\u001b[1;33m     \u001b[0mfn2\u001b[0m\u001b[1;33m(\u001b[0m\u001b[1;33m)\u001b[0m\u001b[1;33m\u001b[0m\u001b[1;33m\u001b[0m\u001b[0m\n\u001b[0m\u001b[0;32m      9\u001b[0m \u001b[1;33m\u001b[0m\u001b[0m\n\u001b[0;32m     10\u001b[0m \u001b[0mfn1\u001b[0m\u001b[1;33m(\u001b[0m\u001b[1;33m)\u001b[0m\u001b[1;33m\u001b[0m\u001b[1;33m\u001b[0m\u001b[0m\n",
      "\u001b[1;32m<ipython-input-7-a78eb09156ce>\u001b[0m in \u001b[0;36mfn2\u001b[1;34m()\u001b[0m\n\u001b[0;32m      2\u001b[0m \u001b[1;32mdef\u001b[0m \u001b[0mfn2\u001b[0m\u001b[1;33m(\u001b[0m\u001b[1;33m)\u001b[0m \u001b[1;33m:\u001b[0m\u001b[1;33m\u001b[0m\u001b[1;33m\u001b[0m\u001b[0m\n\u001b[0;32m      3\u001b[0m     \u001b[0mi\u001b[0m \u001b[1;33m=\u001b[0m \u001b[1;36m1\u001b[0m\u001b[1;33m\u001b[0m\u001b[1;33m\u001b[0m\u001b[0m\n\u001b[1;32m----> 4\u001b[1;33m     \u001b[0mprint\u001b[0m\u001b[1;33m(\u001b[0m\u001b[0mj\u001b[0m\u001b[1;33m)\u001b[0m\u001b[1;33m\u001b[0m\u001b[1;33m\u001b[0m\u001b[0m\n\u001b[0m\u001b[0;32m      5\u001b[0m \u001b[1;33m\u001b[0m\u001b[0m\n\u001b[0;32m      6\u001b[0m \u001b[1;32mdef\u001b[0m \u001b[0mfn1\u001b[0m\u001b[1;33m(\u001b[0m\u001b[1;33m)\u001b[0m \u001b[1;33m:\u001b[0m\u001b[1;33m\u001b[0m\u001b[1;33m\u001b[0m\u001b[0m\n",
      "\u001b[1;31mNameError\u001b[0m: name 'j' is not defined"
     ]
    }
   ],
   "source": [
    "# 다른 함수의 지역변수에 접근할 수 없음\n",
    "def fn2() : \n",
    "    i = 1\n",
    "    print(j)\n",
    "\n",
    "def fn1() : \n",
    "    j = 1\n",
    "    fn2()\n",
    "\n",
    "fn1()"
   ]
  },
  {
   "cell_type": "code",
   "execution_count": 8,
   "metadata": {},
   "outputs": [
    {
     "name": "stdout",
     "output_type": "stream",
     "text": [
      "28.26\n"
     ]
    }
   ],
   "source": [
    "# 함수 안에서 전역 변수로 변경하기\n",
    "def calculate_area(radius) : \n",
    "    global area\n",
    "    area = 3.14 * radius**2\n",
    "    return\n",
    "\n",
    "area = 0\n",
    "r = float(input(\"원의 반지름 : \"))\n",
    "calculate_area(r)\n",
    "print(area)"
   ]
  },
  {
   "cell_type": "code",
   "execution_count": 3,
   "metadata": {},
   "outputs": [
    {
     "name": "stdout",
     "output_type": "stream",
     "text": [
      "8\n",
      "-1\n"
     ]
    }
   ],
   "source": [
    "# 순차 탐색\n",
    "def sequentialSearch(a, value) : \n",
    "    result = -1\n",
    "    for i in range(len(a)) : \n",
    "        if value == a[i] : \n",
    "            result = i\n",
    "    return result\n",
    "\n",
    "a = [1, 3, 5, 6, 7, 9, 11, 20, 30, 56]\n",
    "print(sequentialSearch(a, 30))\n",
    "print(sequentialSearch(a, 29))"
   ]
  },
  {
   "cell_type": "code",
   "execution_count": 4,
   "metadata": {},
   "outputs": [
    {
     "name": "stdout",
     "output_type": "stream",
     "text": [
      "8\n",
      "-1\n"
     ]
    }
   ],
   "source": [
    "# 이진 탐색 프로그램\n",
    "def binarySearch(a, value) : \n",
    "    low = 0\n",
    "    high = len(a) - 1\n",
    "\n",
    "    while (low <= high) : \n",
    "        mid = (low+high) // 2\n",
    "        if a[mid] > value : \n",
    "            high = mid - 1\n",
    "        elif a[mid] < value : \n",
    "            low = mid + 1\n",
    "        else : \n",
    "            return mid\n",
    "    return -1\n",
    "\n",
    "\n",
    "\n",
    "a = [1, 3, 5, 6, 7, 9, 11, 20, 30, 56]\n",
    "print(binarySearch(a, 30))\n",
    "print(binarySearch(a, 29))"
   ]
  },
  {
   "cell_type": "code",
   "execution_count": 6,
   "metadata": {},
   "outputs": [
    {
     "name": "stdout",
     "output_type": "stream",
     "text": [
      "sum1(100) = 200\n",
      "sum2(100) = 4950\n",
      "sum3(100) = 495000\n",
      "sum4(100) = 495000\n",
      "sum5(100) = 505100\n"
     ]
    }
   ],
   "source": [
    "# 다음 각 함수의 O를 구하시오.\n",
    "def sum1(n) : \n",
    "    return n + n\n",
    "\n",
    "def sum2(n) : \n",
    "    s = 0\n",
    "    for i in range(n) : \n",
    "        s += i\n",
    "    return s\n",
    "\n",
    "def sum3(n) : \n",
    "    s = 0\n",
    "    for i in range(n) : \n",
    "        for j in range(n) : \n",
    "            s += i\n",
    "    return s\n",
    "\n",
    "def sum4(n) : \n",
    "    s = 0\n",
    "    for i in range(n) : \n",
    "        s += sum2(n)\n",
    "    return s\n",
    "\n",
    "def sum5(n) : \n",
    "    return sum3(n) + sum2(n) + sum2(n) + sum1(n)\n",
    "\n",
    "print(f\"sum1(100) = {sum1(100)}\")\n",
    "print(f\"sum2(100) = {sum2(100)}\")\n",
    "print(f\"sum3(100) = {sum3(100)}\")\n",
    "print(f\"sum4(100) = {sum4(100)}\")\n",
    "print(f\"sum5(100) = {sum5(100)}\")"
   ]
  },
  {
   "cell_type": "code",
   "execution_count": 7,
   "metadata": {},
   "outputs": [
    {
     "name": "stdout",
     "output_type": "stream",
     "text": [
      "['0', 3, '1', 3, '0', 3, '1', 3]\n"
     ]
    }
   ],
   "source": [
    "# Run Length Encoding\n",
    "def runLengthEncoding(data) : \n",
    "    result = []\n",
    "    count = 1\n",
    "    for i in range(1, len(data)) : \n",
    "        if data[i] == data[i - 1] : \n",
    "            count += 1\n",
    "        else : \n",
    "            result.append(data[i - 1])\n",
    "            result.append(count)\n",
    "            count = 1\n",
    "        \n",
    "        if i == (len(data) - 1) : \n",
    "            result.append(data[i])\n",
    "            result.append(count)\n",
    "    return result\n",
    "\n",
    "i = runLengthEncoding(\"000111000111\")\n",
    "print(i)"
   ]
  },
  {
   "cell_type": "code",
   "execution_count": 9,
   "metadata": {},
   "outputs": [
    {
     "name": "stdout",
     "output_type": "stream",
     "text": [
      "ascii code visual char list is : \n",
      "[' ', '!', '\"', '#', '$', '%', '&', \"'\", '(', ')', '*', '+', ',', '-', '.', '/', '0', '1', '2', '3', '4', '5', '6', '7', '8', '9', ':', ';', '<', '=', '>', '?', '@', 'A', 'B', 'C', 'D', 'E', 'F', 'G', 'H', 'I', 'J', 'K', 'L', 'M', 'N', 'O', 'P', 'Q', 'R', 'S', 'T', 'U', 'V', 'W', 'X', 'Y', 'Z', '[', '\\\\', ']', '^', '_', '`', 'a', 'b', 'c', 'd', 'e', 'f', 'g', 'h', 'i', 'j', 'k', 'l', 'm', 'n', 'o', 'p', 'q', 'r', 's', 't', 'u', 'v', 'w', 'x', 'y', 'z', '{', '|', '}', '~']\n",
      "generated key is : \n",
      "['[', 'c', 'G', \"'\", 'q', '\"', 'B', '/', '!', 'z', 'T', 'Q', 'j', 'M', 'y', 'H', 'A', 'w', 'W', 'm', ',', '-', 'U', 'p', 'f', '6', '=', '}', '|', 'I', 'h', 'J', '3', '8', '0', '9', '+', 's', 'b', '%', 'v', '?', '.', 'u', 'x', 'i', '>', ':', 'D', '*', 't', ';', 'e', 'K', ' ', 'Y', 'C', '_', 'L', '<', 'O', 'g', 'n', '~', 'E', '^', 'k', 'Z', 'N', '5', 'd', '1', '\\\\', '#', '&', '{', 'R', 'a', ']', '(', '@', 'X', 'S', 'o', 'F', 'r', 'P', '4', 'V', ')', '$', '7', '`', 'l', '2']\n",
      "original data : hello world!\n",
      "encrypted data : \\5RR([4(SRNc\n",
      "decrypted data : hello world!\n"
     ]
    }
   ],
   "source": [
    "# 암호 처리\n",
    "import random\n",
    "\n",
    "def getVisualCharList() : \n",
    "    START_CH = \" \"\n",
    "    END_CH = \"~\"\n",
    "    alphabet = []\n",
    "    for i in range(ord(START_CH), ord(END_CH) + 1) : \n",
    "        alphabet.append(chr(i))\n",
    "    return alphabet\n",
    "\n",
    "def makeKey() : \n",
    "    alphabet = getVisualCharList()\n",
    "    random.shuffle(alphabet)\n",
    "    return alphabet\n",
    "\n",
    "def encrypt(data, key) : \n",
    "    enData = []\n",
    "    alphabet = getVisualCharList()\n",
    "    for c in data : \n",
    "        loc = alphabet.index(c)\n",
    "        enData.append(key[loc])\n",
    "    return \"\".join(enData)\n",
    "\n",
    "def decrypt(data, key) : \n",
    "    deData = []\n",
    "    alphabet = getVisualCharList()\n",
    "    for c in data : \n",
    "        loc = key.index(c)\n",
    "        deData.append(alphabet[loc])\n",
    "    return \"\".join(deData)\n",
    "\n",
    "def main() : \n",
    "    print(\"ascii code visual char list is : \")\n",
    "    print(getVisualCharList())\n",
    "\n",
    "    key = makeKey()\n",
    "    print(\"generated key is : \")\n",
    "    print(key)\n",
    "\n",
    "    data = \"hello world!\"\n",
    "    print(f\"original data : {data}\")\n",
    "\n",
    "    enData = encrypt(data, key)\n",
    "    deData = decrypt(enData, key)\n",
    "\n",
    "    print(f\"encrypted data : {enData}\")\n",
    "    print(f\"decrypted data : {deData}\")\n",
    "\n",
    "main()"
   ]
  },
  {
   "cell_type": "code",
   "execution_count": 11,
   "metadata": {},
   "outputs": [
    {
     "name": "stdout",
     "output_type": "stream",
     "text": [
      "[기본 패턴] --------------------\n",
      "< 1 > : [1, 2, 3, 4, 5, 6, 7, 8, 9, 10]\n",
      "< 2 > : [1, 3, 5, 7, 9, 11, 13, 15, 17, 19]\n",
      "< 3 > : [3, 6, 9, 12, 15, 18, 21, 24, 27, 30]\n",
      "[추가 패턴] --------------------\n",
      "< 1 > : [1, 10, 100, 1000, 10000, 100000, 1000000, 10000000, 100000000, 1000000000]\n",
      "< 2 > : [1, 4, 9, 16, 25, 36, 49, 64, 81, 100]\n",
      "< 3 > : [1, 1, 2, 3, 5, 8, 13, 21, 34, 55]\n",
      "< 4 > : [2, 6, 12, 20, 30, 42, 56, 72, 90, 110]\n"
     ]
    }
   ],
   "source": [
    "# 다음 각 수열에 대한 프로그램\n",
    "\n",
    "print(\"[기본 패턴] --------------------\")\n",
    "\n",
    "sequence = []\n",
    "for i in range(1, 11) : \n",
    "    sequence.append(i)\n",
    "print(f\"< 1 > : {sequence}\")\n",
    "\n",
    "sequence = []\n",
    "for i in range(1, 11) : \n",
    "    sequence.append(2*i - 1)\n",
    "print(f\"< 2 > : {sequence}\")\n",
    "\n",
    "sequence = []\n",
    "for i in range(1, 11) : \n",
    "    sequence.append(3 * i)\n",
    "print(f\"< 3 > : {sequence}\")\n",
    "\n",
    "\n",
    "print(\"[추가 패턴] --------------------\")\n",
    "\n",
    "sequence = []\n",
    "for i in range(10) : \n",
    "    sequence.append(10 ** i)\n",
    "print(f\"< 1 > : {sequence}\")\n",
    "\n",
    "sequence = []\n",
    "for i in range(1, 11) : \n",
    "    sequence.append(i ** 2)\n",
    "print(f\"< 2 > : {sequence}\")\n",
    "\n",
    "sequence = []\n",
    "for i in range(10) : \n",
    "    if i == 0 or i == 1 : \n",
    "        sequence.append(1)\n",
    "    else : \n",
    "        sequence.append(sequence[i - 2] + sequence[i - 1])\n",
    "print(f\"< 3 > : {sequence}\")\n",
    "\n",
    "sequence = []\n",
    "for i in range(1, 11) : \n",
    "    sequence.append(i * (i+1))\n",
    "print(f\"< 4 > : {sequence}\")"
   ]
  }
 ],
 "metadata": {
  "interpreter": {
   "hash": "e0ff70f5b19e5a19febcbd78781e69fe4029793a1e976b8709ea222008600ed7"
  },
  "kernelspec": {
   "display_name": "Python 3.8.5 64-bit",
   "language": "python",
   "name": "python3"
  },
  "language_info": {
   "codemirror_mode": {
    "name": "ipython",
    "version": 3
   },
   "file_extension": ".py",
   "mimetype": "text/x-python",
   "name": "python",
   "nbconvert_exporter": "python",
   "pygments_lexer": "ipython3",
   "version": "3.8.5"
  },
  "orig_nbformat": 4
 },
 "nbformat": 4,
 "nbformat_minor": 2
}
