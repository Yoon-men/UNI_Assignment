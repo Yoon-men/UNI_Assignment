{
 "cells": [
  {
   "cell_type": "code",
   "execution_count": 2,
   "metadata": {},
   "outputs": [
    {
     "name": "stdout",
     "output_type": "stream",
     "text": [
      "3*3 = 9\n"
     ]
    }
   ],
   "source": [
    "while True : \n",
    "    ex = input(\"input your expression(Q or q for quit) : \")\n",
    "    if ex == \"q\" or ex == \"Q\" : \n",
    "        break\n",
    "    print(ex, \"=\", eval(ex))"
   ]
  }
 ],
 "metadata": {
  "interpreter": {
   "hash": "e0ff70f5b19e5a19febcbd78781e69fe4029793a1e976b8709ea222008600ed7"
  },
  "kernelspec": {
   "display_name": "Python 3.8.5 64-bit",
   "language": "python",
   "name": "python3"
  },
  "language_info": {
   "codemirror_mode": {
    "name": "ipython",
    "version": 3
   },
   "file_extension": ".py",
   "mimetype": "text/x-python",
   "name": "python",
   "nbconvert_exporter": "python",
   "pygments_lexer": "ipython3",
   "version": "3.8.5"
  },
  "orig_nbformat": 4
 },
 "nbformat": 4,
 "nbformat_minor": 2
}
